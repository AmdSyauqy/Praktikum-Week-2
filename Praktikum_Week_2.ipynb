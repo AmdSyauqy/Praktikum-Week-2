{
  "nbformat": 4,
  "nbformat_minor": 0,
  "metadata": {
    "colab": {
      "provenance": []
    },
    "kernelspec": {
      "name": "python3",
      "display_name": "Python 3"
    },
    "language_info": {
      "name": "python"
    }
  },
  "cells": [
    {
      "cell_type": "code",
      "execution_count": 1,
      "metadata": {
        "colab": {
          "base_uri": "https://localhost:8080/"
        },
        "id": "wX5Sr1L1eh9f",
        "outputId": "adad51c8-d855-4dd6-d599-6140a7bd1cba"
      },
      "outputs": [
        {
          "output_type": "stream",
          "name": "stdout",
          "text": [
            "Panjang =  20.5\n",
            "lebar =  25\n",
            "tinggi =  10\n",
            "keliling =  91.0\n",
            "volume =  5125.0\n",
            "luas =  512.5\n"
          ]
        }
      ],
      "source": [
        "panjang = 20.5\n",
        "lebar = 25\n",
        "tinggi = 10\n",
        "\n",
        "keliling = 2 * (panjang + lebar)\n",
        "luas = panjang * lebar\n",
        "volume = panjang * lebar * tinggi\n",
        "\n",
        "print(\"Panjang = \", panjang)\n",
        "print(\"lebar = \", lebar)\n",
        "print(\"tinggi = \", tinggi)\n",
        "print(\"keliling = \", keliling)\n",
        "print(\"volume = \", volume)\n",
        "print(\"luas = \", luas)"
      ]
    },
    {
      "cell_type": "code",
      "source": [
        "a = ((85 + 75)//2)\n",
        "b = (75 + 90 + 70 + 75)\n",
        "c = ((85 + 85 + 80 + 95)/4)\n",
        "d = ((85 + 85 + 75 + 80)/4)\n",
        "e = ((85 + 80 + 75 + 95 + 85 + 75 + 70 + 85 + 80)/9)\n",
        "f = ((75 + 90 + 80 + 80 + 85 + 90 + 75 + 85 + 75)/9)\n",
        "\n",
        "print(\"1. Rata-rata nilai Shafira pada kedua matak kuliah =\", a)\n",
        "print(\"2. Jumlah nilai Hanif dan Andi untuk semua mata kulia =\", b)\n",
        "print(\"3. Rata-rata nilai Widya,Dhamar,Hikmah, dan Nedia :\")\n",
        "print(\"   - Nilai kalkulus 1 = \",c,\"\\n   - Nilai metode statistika = \",d)\n",
        "print(\"4. Rata-rata nilai mata kuliah Kalkulus 1 untuk semua mahasiswa =\",e)\n",
        "print(\"5. Rata-rata nilai mata kuliah Metode Statistika untuk semua mahasiswa =\",f)\n"
      ],
      "metadata": {
        "colab": {
          "base_uri": "https://localhost:8080/"
        },
        "id": "Ooqb9qAne223",
        "outputId": "480753b5-21d6-42c3-a97e-fc7d66e3ba89"
      },
      "execution_count": 2,
      "outputs": [
        {
          "output_type": "stream",
          "name": "stdout",
          "text": [
            "1. Rata-rata nilai Shafira pada kedua matak kuliah = 80\n",
            "2. Jumlah nilai Hanif dan Andi untuk semua mata kulia = 310\n",
            "3. Rata-rata nilai Widya,Dhamar,Hikmah, dan Nedia :\n",
            "   - Nilai kalkulus 1 =  86.25 \n",
            "   - Nilai metode statistika =  81.25\n",
            "4. Rata-rata nilai mata kuliah Kalkulus 1 untuk semua mahasiswa = 81.11111111111111\n",
            "5. Rata-rata nilai mata kuliah Metode Statistika untuk semua mahasiswa = 81.66666666666667\n"
          ]
        }
      ]
    },
    {
      "cell_type": "code",
      "source": [
        "a = 8 * 30000   #penghasilan perhari\n",
        "b = a * 31      #penghasilan perbulan\n",
        "c = b - a * 3   #penghasilan perbulan jika tidak masuk 3 hari\n",
        "d = 10/100 * c  #tunjangan bulan Agustus\n",
        "e = 5 * 10000   #upah lembur\n",
        "f = c + d + e   #gaji total\n",
        "\n",
        "print(\"Gaji pada bulan Agustus jika Dwi tidak masuk kerja selama 3 hari =\",c)\n",
        "print(\"Jumlah tunjangan yang diterima oleh Dwi pada bulan Agustus =\",d)\n",
        "print(\"Gaji total yang diterima oleh Dwi pada bulan Agustus apabila pada Dwi mendapatkan tugas lembur selama 5 jam =\",f)"
      ],
      "metadata": {
        "colab": {
          "base_uri": "https://localhost:8080/"
        },
        "id": "ix8oYDcJe6ua",
        "outputId": "cd5e43cd-7360-4ad5-e1a2-36d13fa21217"
      },
      "execution_count": 3,
      "outputs": [
        {
          "output_type": "stream",
          "name": "stdout",
          "text": [
            "Gaji pada bulan Agustus jika Dwi tidak masuk kerja selama 3 hari = 6720000\n",
            "Jumlah tunjangan yang diterima oleh Dwi pada bulan Agustus = 672000.0\n",
            "Gaji total yang diterima oleh Dwi pada bulan Agustus apabila pada Dwi mendapatkan tugas lembur selama 5 jam = 7442000.0\n"
          ]
        }
      ]
    }
  ]
}